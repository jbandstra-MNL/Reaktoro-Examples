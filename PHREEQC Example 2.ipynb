{
 "cells": [
  {
   "cell_type": "code",
   "execution_count": 1,
   "metadata": {},
   "outputs": [],
   "source": [
    "import reaktoro as rkt\n",
    "import numpy as np\n",
    "import matplotlib.pyplot as plt"
   ]
  },
  {
   "cell_type": "code",
   "execution_count": 4,
   "metadata": {},
   "outputs": [
    {
     "name": "stdout",
     "output_type": "stream",
     "text": [
      "AQUEOUS PROPERTIES AT EQUILIBRIUM\n",
      "+---------------------------------+-------------+-------+\n",
      "| Property                        |       Value |  Unit |\n",
      "+---------------------------------+-------------+-------+\n",
      "| Temperature                     |    348.1500 |     K |\n",
      "| Pressure                        |      1.0132 |   bar |\n",
      "| Ionic Strength (Effective)      |      0.0243 | molal |\n",
      "| Ionic Strength (Stoichiometric) |      0.0363 | molal |\n",
      "| pH                              |      7.0000 |       |\n",
      "| pE                              |     -3.8788 |       |\n",
      "| Eh                              |     -0.2680 |     V |\n",
      "| Charge Molality                 | -2.1208e-06 | molal |\n",
      "| Element Molality:               |             |       |\n",
      "| :: S                            |  9.0778e-03 | molal |\n",
      "| :: Ca                           |  9.0778e-03 | molal |\n",
      "| Species Molality:               |             |       |\n",
      "| :: H+                           |  1.1240e-07 | molal |\n",
      "| :: SO4-2                        |  6.0714e-03 | molal |\n",
      "| :: HS-                          |  9.6522e-17 | molal |\n",
      "| :: H2S                          |  9.6522e-17 | molal |\n",
      "| :: (H2S)2                       |  9.6522e-17 | molal |\n",
      "| :: HSO4-                        |  1.4396e-07 | molal |\n",
      "| :: Ca+2                         |  6.0716e-03 | molal |\n",
      "| :: CaHSO4+                      |  6.1385e-09 | molal |\n",
      "| :: CaOH+                        |  7.0220e-09 | molal |\n",
      "| :: CaSO4                        |  3.0062e-03 | molal |\n",
      "| :: H2                           |  9.6522e-17 | molal |\n",
      "| :: OH-                          |  2.3763e-06 | molal |\n",
      "| :: O2                           |  9.6522e-17 | molal |\n",
      "| :: S-2                          |  9.6522e-17 | molal |\n",
      "| Saturation Indices:             |             |       |\n",
      "| :: H2(g)                        |     -6.4505 |     - |\n",
      "| :: H2O(g)                       |     -0.4292 |     - |\n",
      "| :: H2S(g)                       |     -6.1730 |     - |\n",
      "| :: O2(g)                        |    -56.3145 |     - |\n",
      "| :: Anhydrite :: CaSO4           |     -0.0000 |     - |\n",
      "| :: Gypsum :: CaSO4:2H2O         |     -0.1950 |     - |\n",
      "| :: Sulfur                       |     -5.1902 |     - |\n",
      "| Saturation Ratios:              |             |       |\n",
      "| :: H2(g)                        |  3.5439e-07 |     - |\n",
      "| :: H2O(g)                       |  3.7223e-01 |     - |\n",
      "| :: H2S(g)                       |  6.7142e-07 |     - |\n",
      "| :: O2(g)                        |  4.8473e-57 |     - |\n",
      "| :: Anhydrite :: CaSO4           |  1.0000e+00 |     - |\n",
      "| :: Gypsum :: CaSO4:2H2O         |  6.3828e-01 |     - |\n",
      "| :: Sulfur                       |  6.4540e-06 |     - |\n",
      "+---------------------------------+-------------+-------+\n"
     ]
    }
   ],
   "source": [
    "# Define system with aq. species and gibbsite mineral\n",
    "db = rkt.PhreeqcDatabase(\"phreeqc.dat\")\n",
    "solution = rkt.AqueousPhase(rkt.speciate(\"H O Ca S\"))\n",
    "solution.setActivityModel(rkt.ActivityModelDebyeHuckelPHREEQC())\n",
    "Gypsum = rkt.MineralPhase(\"Gypsum\")\n",
    "Anhydrite = rkt.MineralPhase(\"Anhydrite\")\n",
    "system = rkt.ChemicalSystem(db, solution, Gypsum, Anhydrite)\n",
    "\n",
    "# Create a solver with fixed T, P, and P_CO2 that can be charge balanced by adjusting pH\n",
    "specs = rkt.EquilibriumSpecs(system)\n",
    "specs.temperature()\n",
    "specs.pressure()\n",
    "specs.pH()\n",
    "solver = rkt.EquilibriumSolver(specs)\n",
    "\n",
    "# Set an initial state for the solution\n",
    "state = rkt.ChemicalState(system)\n",
    "state.temperature(25.0, \"celsius\")\n",
    "state.pressure(1.0, \"atm\")\n",
    "state.set(\"H2O\", 1.0, \"kg\")\n",
    "state.set(\"Gypsum\", 1, \"mol\")\n",
    "state.set(\"Anhydrite\", 1, \"mol\")\n",
    "\n",
    "\n",
    "# Set conditions\n",
    "conditions = rkt.EquilibriumConditions(specs)\n",
    "conditions.temperature(75, \"celsius\")\n",
    "conditions.pressure(1, \"atm\")\n",
    "conditions.pH(7.0)\n",
    "\n",
    "# Equilibrate\n",
    "solver.solve(state, conditions)\n",
    "\n",
    "# print(\"FINAL STATE\")\n",
    "# print(state)\n",
    "\n",
    "aprops = rkt.AqueousProps(state)\n",
    "\n",
    "print(\"AQUEOUS PROPERTIES AT EQUILIBRIUM\")\n",
    "print(aprops)"
   ]
  },
  {
   "cell_type": "code",
   "execution_count": 6,
   "metadata": {},
   "outputs": [
    {
     "name": "stdout",
     "output_type": "stream",
     "text": [
      "-2.28296e-09\n",
      "-0.194987\n"
     ]
    }
   ],
   "source": [
    "print(aprops.saturationIndex(\"Anhydrite\"))\n",
    "print(aprops.saturationIndex(\"Gypsum\"))"
   ]
  },
  {
   "cell_type": "code",
   "execution_count": 8,
   "metadata": {},
   "outputs": [
    {
     "data": {
      "text/plain": [
       "[[-1.651584282608155e-09, -0.3016874154181105],\n",
       " [-2.854455033905756e-09, -0.2904909241813338],\n",
       " [-2.0637497141256396e-09, -0.2793460931723945],\n",
       " [-1.347839567272025e-09, -0.2682523249256505],\n",
       " [-7.011829377060315e-10, -0.25720902806198903],\n",
       " [-1.061763165470787e-09, -0.24621562021158683],\n",
       " [3.6579366906236762e-09, -0.23527151990312786],\n",
       " [8.736372745831025e-10, -0.22437617226724005],\n",
       " [1.2920352368109085e-09, -0.2135290067877472],\n",
       " [1.6640207300090071e-09, -0.2027294746068427],\n",
       " [1.9932763022172812e-09, -0.19197703114052705],\n",
       " [2.283286046641176e-09, -0.18127113924551247],\n",
       " [2.537195608107034e-09, -0.17061126912006813],\n",
       " [2.7580611967651736e-09, -0.1599968982059868],\n",
       " [2.9486406097830312e-09, -0.14942751109193186],\n",
       " [3.1114969031439023e-09, -0.13890259941754815],\n",
       " [3.2490662066683606e-09, -0.1284216617786426],\n",
       " [3.3635375090445055e-09, -0.11798420363373045],\n",
       " [3.457009133381659e-09, -0.1075897372110045],\n",
       " [3.531380082457055e-09, -0.0972377814168232],\n",
       " [3.5884140755980657e-09, -0.08692786174484676],\n",
       " [3.629747654575598e-09, -0.07665951018604959],\n",
       " [3.6569010982904493e-09, -0.06643226513981412],\n",
       " [3.671296219734953e-09, -0.05624567132581222],\n",
       " [3.6741672218614496e-09, -0.04609927969691704],\n",
       " [3.6667521179635106e-09, -0.035992647352636666],\n",
       " [3.6501147506630417e-09, -0.025925337453735313],\n",
       " [3.62529862947844e-09, -0.01589691913762458],\n",
       " [3.5931888248980518e-09, -0.005906967434457876],\n",
       " [-0.00402034605097597, 1.1248125796158297e-13],\n",
       " [-0.013876514035989058, 6.542968171014897e-13],\n",
       " [-0.02369865400778215, 9.990835265388683e-10],\n",
       " [-0.03348704612070881, 9.402327043465223e-10],\n",
       " [-0.0432419656411301, 8.845985847665599e-10],\n",
       " [-0.052963687121546275, 8.320345460968829e-10],\n",
       " [-0.06265248335109158, 7.823684390915651e-10],\n",
       " [-0.07230862536220567, 7.35467663304629e-10],\n",
       " [-0.08193238243622455, 6.911853896627946e-10],\n",
       " [-0.09152402210763935, 6.493861557719926e-10],\n",
       " [-0.10108381016736802, 6.099524418349789e-10],\n",
       " [-0.1106120106651496, 5.727558099396539e-10],\n",
       " [-0.12010888591117823, 5.37676630043942e-10],\n",
       " [-0.1295746964769276, 5.046184365873075e-10],\n",
       " [-0.13900970119544198, 4.734559136929424e-10],\n",
       " [-0.14841415716102052, 4.440990262859125e-10],\n",
       " [-0.15778831972865764, 4.164521799087361e-10],\n",
       " [-0.16713243763313515, 5.2778198838719706e-09],\n",
       " [-0.17644677276743878, 4.9917140156722965e-09],\n",
       " [-0.1857315701075065, 4.719925688876125e-09],\n",
       " [-0.19498707803826845, 4.461814855848887e-09]]"
      ]
     },
     "execution_count": 8,
     "metadata": {},
     "output_type": "execute_result"
    }
   ],
   "source": [
    "# Define system with aq. species and gibbsite mineral\n",
    "db = rkt.PhreeqcDatabase(\"phreeqc.dat\")\n",
    "solution = rkt.AqueousPhase(rkt.speciate(\"H O Ca S\"))\n",
    "solution.setActivityModel(rkt.ActivityModelDebyeHuckelPHREEQC())\n",
    "Gypsum = rkt.MineralPhase(\"Gypsum\")\n",
    "Anhydrite = rkt.MineralPhase(\"Anhydrite\")\n",
    "system = rkt.ChemicalSystem(db, solution, Gypsum, Anhydrite)\n",
    "\n",
    "# Create a solver with fixed T, P, and P_CO2 that can be charge balanced by adjusting pH\n",
    "specs = rkt.EquilibriumSpecs(system)\n",
    "specs.temperature()\n",
    "specs.pressure()\n",
    "specs.pH()\n",
    "solver = rkt.EquilibriumSolver(specs)\n",
    "\n",
    "# Set an initial state for the solution\n",
    "state = rkt.ChemicalState(system)\n",
    "state.temperature(25.0, \"celsius\")\n",
    "state.pressure(1.0, \"atm\")\n",
    "state.set(\"H2O\", 1.0, \"kg\")\n",
    "state.set(\"Gypsum\", 1, \"mol\")\n",
    "state.set(\"Anhydrite\", 1, \"mol\")\n",
    "\n",
    "def SatIndexCalc(T):\n",
    "    # Set conditions\n",
    "    conditions = rkt.EquilibriumConditions(specs)\n",
    "    conditions.temperature(T, \"celsius\")\n",
    "    conditions.pressure(1, \"atm\")\n",
    "    conditions.pH(7.0)\n",
    "\n",
    "    # Equilibrate\n",
    "    solver.solve(state, conditions)\n",
    "\n",
    "    # print(\"FINAL STATE\")\n",
    "    # print(state)\n",
    "\n",
    "    aprops = rkt.AqueousProps(state)\n",
    "\n",
    "    # print(\"AQUEOUS PROPERTIES AT EQUILIBRIUM\")\n",
    "    # print(aprops)\n",
    "    return [aprops.saturationIndex(\"Gypsum\")[0], aprops.saturationIndex(\"Anhydrite\")[0]]\n",
    "\n",
    "T_arr = np.linspace(25,75)\n",
    "output = [SatIndexCalc(T) for T in T_arr]\n",
    "output"
   ]
  },
  {
   "cell_type": "code",
   "execution_count": 12,
   "metadata": {},
   "outputs": [
    {
     "data": {
      "text/plain": [
       "[<matplotlib.lines.Line2D at 0x1be15718c90>,\n",
       " <matplotlib.lines.Line2D at 0x1be1572a790>]"
      ]
     },
     "execution_count": 12,
     "metadata": {},
     "output_type": "execute_result"
    },
    {
     "data": {
      "image/png": "[encoded data removed]",
      "text/plain": [
       "<Figure size 640x480 with 1 Axes>"
      ]
     },
     "metadata": {},
     "output_type": "display_data"
    }
   ],
   "source": [
    "plt.plot(T_arr, np.array(output))"
   ]
  },
  {
   "cell_type": "code",
   "execution_count": null,
   "metadata": {},
   "outputs": [],
   "source": []
  }
 ],
 "metadata": {
  "kernelspec": {
   "display_name": "rkt",
   "language": "python",
   "name": "python3"
  },
  "language_info": {
   "codemirror_mode": {
    "name": "ipython",
    "version": 3
   },
   "file_extension": ".py",
   "mimetype": "text/x-python",
   "name": "python",
   "nbconvert_exporter": "python",
   "pygments_lexer": "ipython3",
   "version": "3.11.4"
  },
  "orig_nbformat": 4
 },
 "nbformat": 4,
 "nbformat_minor": 2
}
